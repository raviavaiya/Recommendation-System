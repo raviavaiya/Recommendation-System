{
 "cells": [
  {
   "cell_type": "code",
   "execution_count": 2,
   "id": "4a979ed8",
   "metadata": {},
   "outputs": [],
   "source": [
    "import pandas as pd\n",
    "import numpy as np\n",
    "from bing_image_downloader import downloader\n",
    "import os\n",
    "import re\n",
    "import shutil\n",
    "import warnings\n",
    "warnings.filterwarnings(\"ignore\")"
   ]
  },
  {
   "cell_type": "code",
   "execution_count": 3,
   "id": "21e8dabf",
   "metadata": {},
   "outputs": [],
   "source": [
    "df=pd.read_csv('D:\\Recommendation-System\\Data\\Indain_Food_Cuisine_Dataset.csv')\n"
   ]
  },
  {
   "cell_type": "code",
   "execution_count": 4,
   "id": "0d61c88e",
   "metadata": {},
   "outputs": [
    {
     "data": {
      "text/plain": [
       "(7288, 13)"
      ]
     },
     "execution_count": 4,
     "metadata": {},
     "output_type": "execute_result"
    }
   ],
   "source": [
    "df.shape"
   ]
  },
  {
   "cell_type": "code",
   "execution_count": 5,
   "id": "efb73ca8",
   "metadata": {},
   "outputs": [],
   "source": [
    "df.drop_duplicates(inplace=True)"
   ]
  },
  {
   "cell_type": "code",
   "execution_count": 6,
   "id": "4804a74d",
   "metadata": {},
   "outputs": [
    {
     "data": {
      "text/plain": [
       "(7218, 13)"
      ]
     },
     "execution_count": 6,
     "metadata": {},
     "output_type": "execute_result"
    }
   ],
   "source": [
    "df.shape"
   ]
  },
  {
   "cell_type": "code",
   "execution_count": 7,
   "id": "1f9dc5d1",
   "metadata": {},
   "outputs": [
    {
     "data": {
      "text/plain": [
       "name_of_Dish           0\n",
       "Diet_Type              0\n",
       "Course_name            0\n",
       "Discrption_of_Dish     0\n",
       "Cuisine_name           0\n",
       "Ratings_of_Dish        0\n",
       "Similar_Dishes         0\n",
       "Ingredients_of_Dish    0\n",
       "Prepration_time        0\n",
       "Cooking_time           0\n",
       "Total_time             0\n",
       "Makes                  0\n",
       "Recipe_Instructions    0\n",
       "dtype: int64"
      ]
     },
     "execution_count": 7,
     "metadata": {},
     "output_type": "execute_result"
    }
   ],
   "source": [
    "df.isnull().sum()"
   ]
  },
  {
   "cell_type": "code",
   "execution_count": null,
   "id": "b8cf55c1",
   "metadata": {},
   "outputs": [],
   "source": []
  }
 ],
 "metadata": {
  "kernelspec": {
   "display_name": "RS_env",
   "language": "python",
   "name": "python3"
  },
  "language_info": {
   "codemirror_mode": {
    "name": "ipython",
    "version": 3
   },
   "file_extension": ".py",
   "mimetype": "text/x-python",
   "name": "python",
   "nbconvert_exporter": "python",
   "pygments_lexer": "ipython3",
   "version": "3.12.10"
  }
 },
 "nbformat": 4,
 "nbformat_minor": 5
}
